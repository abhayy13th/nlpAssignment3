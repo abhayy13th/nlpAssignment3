{
 "cells": [
  {
   "cell_type": "code",
   "execution_count": 18,
   "id": "f896bce5-5243-4ce3-9aab-bfc25aae4e33",
   "metadata": {},
   "outputs": [
    {
     "name": "stdout",
     "output_type": "stream",
     "text": [
      "(9989, 2)\n",
      "Index(['label', 'text'], dtype='object')\n",
      "  label                                               text\n",
      "0   ham  into the kingdom of god and those that are ent...\n",
      "1  spam  there was flow at hpl meter 1505 on april firs...\n",
      "2   ham  take a look at this one campaign for bvyhprice...\n",
      "3  spam  somu wrote actually thats what i was looking f...\n",
      "4  spam  fathi boudra wrote i fixed the issue in the sv...\n",
      "label\n",
      "ham     5294\n",
      "spam    4695\n",
      "Name: count, dtype: int64\n"
     ]
    }
   ],
   "source": [
    "import pandas as pd\n",
    "import re\n",
    "from sklearn.model_selection    import train_test_split\n",
    "from sklearn.feature_extraction.text import TfidfVectorizer\n",
    "from sklearn.linear_model       import LogisticRegression\n",
    "from sklearn.metrics            import accuracy_score, precision_recall_fscore_support, confusion_matrix\n",
    "\n",
    "df = pd.read_csv(\"spam_and_ham_classification.csv\")\n",
    "\n",
    "print(df.shape)            # e.g., (some_number_of_rows, 3)\n",
    "print(df.columns)          # Expecting columns such as ['label', 'text', ...]\n",
    "print(df.head(5))          # Preview the first few rows\n",
    "print(df[\"label\"].value_counts())  # Confirm it’s balanced: equal counts of 'spam' and 'ham'\n"
   ]
  },
  {
   "cell_type": "code",
   "execution_count": 39,
   "id": "fe5859be-3bf3-4696-8451-8c17047636ff",
   "metadata": {},
   "outputs": [
    {
     "data": {
      "text/html": [
       "<div>\n",
       "<style scoped>\n",
       "    .dataframe tbody tr th:only-of-type {\n",
       "        vertical-align: middle;\n",
       "    }\n",
       "\n",
       "    .dataframe tbody tr th {\n",
       "        vertical-align: top;\n",
       "    }\n",
       "\n",
       "    .dataframe thead th {\n",
       "        text-align: right;\n",
       "    }\n",
       "</style>\n",
       "<table border=\"1\" class=\"dataframe\">\n",
       "  <thead>\n",
       "    <tr style=\"text-align: right;\">\n",
       "      <th></th>\n",
       "      <th>clean_text</th>\n",
       "      <th>label</th>\n",
       "    </tr>\n",
       "  </thead>\n",
       "  <tbody>\n",
       "    <tr>\n",
       "      <th>0</th>\n",
       "      <td>into the kingdom of god and those that are ent...</td>\n",
       "      <td>ham</td>\n",
       "    </tr>\n",
       "    <tr>\n",
       "      <th>1</th>\n",
       "      <td>there was flow at hpl meter 1505 on april firs...</td>\n",
       "      <td>spam</td>\n",
       "    </tr>\n",
       "    <tr>\n",
       "      <th>2</th>\n",
       "      <td>take a look at this one campaign for bvyhprice...</td>\n",
       "      <td>ham</td>\n",
       "    </tr>\n",
       "    <tr>\n",
       "      <th>3</th>\n",
       "      <td>somu wrote actually thats what i was looking f...</td>\n",
       "      <td>spam</td>\n",
       "    </tr>\n",
       "    <tr>\n",
       "      <th>4</th>\n",
       "      <td>fathi boudra wrote i fixed the issue in the sv...</td>\n",
       "      <td>spam</td>\n",
       "    </tr>\n",
       "  </tbody>\n",
       "</table>\n",
       "</div>"
      ],
      "text/plain": [
       "                                          clean_text label\n",
       "0  into the kingdom of god and those that are ent...   ham\n",
       "1  there was flow at hpl meter 1505 on april firs...  spam\n",
       "2  take a look at this one campaign for bvyhprice...   ham\n",
       "3  somu wrote actually thats what i was looking f...  spam\n",
       "4  fathi boudra wrote i fixed the issue in the sv...  spam"
      ]
     },
     "execution_count": 39,
     "metadata": {},
     "output_type": "execute_result"
    }
   ],
   "source": [
    "# Text Cleaning\n",
    "def clean_text(text):\n",
    "    # 1. Convert to lowercase\n",
    "    text = text.lower()\n",
    "    # 2. Remove URLs\n",
    "    text = re.sub(r\"http\\S+\", \"\", text)\n",
    "    # 3. Remove non-alphanumeric characters (keep spaces)\n",
    "    text = re.sub(r\"[^a-z0-9\\s]\", \" \", text)\n",
    "    # 4. Collapse multiple spaces into one\n",
    "    text = re.sub(r\"\\s+\", \" \", text).strip()\n",
    "    return text\n",
    "\n",
    "# Apply the cleaning function to the entire DataFrame\n",
    "df[\"clean_text\"] = df[\"text\"].apply(clean_text)\n",
    "\n",
    "# Quick check of the new column\n",
    "df[[\"clean_text\", \"label\"]].head()\n"
   ]
  },
  {
   "cell_type": "code",
   "execution_count": 41,
   "id": "89e6cd03-365b-49c1-8368-00cc0a9d4a70",
   "metadata": {},
   "outputs": [
    {
     "name": "stdout",
     "output_type": "stream",
     "text": [
      "Train shape: (7991, 3)\n",
      "label\n",
      "ham     0.529971\n",
      "spam    0.470029\n",
      "Name: proportion, dtype: float64\n",
      "Validation shape: (999, 3)\n",
      "label\n",
      "ham     0.52953\n",
      "spam    0.47047\n",
      "Name: proportion, dtype: float64\n",
      "Test shape: (999, 3)\n",
      "label\n",
      "ham     0.530531\n",
      "spam    0.469469\n",
      "Name: proportion, dtype: float64\n"
     ]
    }
   ],
   "source": [
    "# Stratified Split\n",
    "# First split: 80% train, 20% temp (val + test)\n",
    "train_df, temp_df = train_test_split(\n",
    "    df,\n",
    "    test_size=0.20,\n",
    "    stratify=df[\"label\"],\n",
    "    random_state=13\n",
    ")\n",
    "\n",
    "# Second split: 10% validation, 10% test (each 50% of temp_df)\n",
    "val_df, test_df = train_test_split(\n",
    "    temp_df,\n",
    "    test_size=0.50,\n",
    "    stratify=temp_df[\"label\"],\n",
    "    random_state=13\n",
    ")\n",
    "\n",
    "# Confirm shapes and label distributions\n",
    "print(\"Train shape:\", train_df.shape)\n",
    "print(train_df[\"label\"].value_counts(normalize=True))\n",
    "print(\"Validation shape:\", val_df.shape)\n",
    "print(val_df[\"label\"].value_counts(normalize=True))\n",
    "print(\"Test shape:\", test_df.shape)\n",
    "print(test_df[\"label\"].value_counts(normalize=True))\n"
   ]
  },
  {
   "cell_type": "code",
   "execution_count": 43,
   "id": "fc7a9d69-9de7-4046-aeb0-d1f80607ca9a",
   "metadata": {},
   "outputs": [
    {
     "name": "stdout",
     "output_type": "stream",
     "text": [
      "X_train shape: (7991, 105579)\n",
      "X_val shape:   (999, 105579)\n",
      "X_test shape:  (999, 105579)\n",
      "y_train length: 7991\n",
      "y_val length:   999\n",
      "y_test length:  999\n"
     ]
    }
   ],
   "source": [
    "# TF-IDF Vectorization\n",
    "vectorizer = TfidfVectorizer(\n",
    "    min_df=3,\n",
    "    max_df=0.85,\n",
    "    ngram_range=(1, 2)\n",
    ")\n",
    "\n",
    "# Fit on the training set, then transform all three\n",
    "X_train = vectorizer.fit_transform(train_df[\"clean_text\"])\n",
    "X_val   = vectorizer.transform(val_df[\"clean_text\"])\n",
    "X_test  = vectorizer.transform(test_df[\"clean_text\"])\n",
    "\n",
    "# Encode labels as binary (ham=0, spam=1)\n",
    "y_train = train_df[\"label\"].map({\"ham\": 0, \"spam\": 1}).values\n",
    "y_val   = val_df[\"label\"].map({\"ham\": 0, \"spam\": 1}).values\n",
    "y_test  = test_df[\"label\"].map({\"ham\": 0, \"spam\": 1}).values\n",
    "\n",
    "# Print shapes to confirm\n",
    "print(\"X_train shape:\", X_train.shape)\n",
    "print(\"X_val shape:  \", X_val.shape)\n",
    "print(\"X_test shape: \", X_test.shape)\n",
    "print(\"y_train length:\", len(y_train))\n",
    "print(\"y_val length:  \", len(y_val))\n",
    "print(\"y_test length: \", len(y_test))\n"
   ]
  },
  {
   "cell_type": "code",
   "execution_count": 44,
   "id": "05ff5dc3-1f44-4723-89f2-b63157919737",
   "metadata": {},
   "outputs": [
    {
     "name": "stdout",
     "output_type": "stream",
     "text": [
      "Validation Accuracy: 0.9710\n",
      "Spam Precision : 0.9825\n",
      "Spam Recall    : 0.9553\n",
      "Spam F1-score  : 0.9687\n"
     ]
    }
   ],
   "source": [
    "# Baseline Model: Logistic Regression\n",
    "lr = LogisticRegression(max_iter=1000, random_state=42)\n",
    "lr.fit(X_train, y_train)\n",
    "\n",
    "y_val_pred = lr.predict(X_val)\n",
    "acc  = accuracy_score(y_val, y_val_pred)\n",
    "prec, rec, f1, _ = precision_recall_fscore_support(\n",
    "    y_val, y_val_pred, average=\"binary\", pos_label=1\n",
    ")\n",
    "\n",
    "print(f\"Validation Accuracy: {acc:.4f}\")\n",
    "print(f\"Spam Precision : {prec:.4f}\")\n",
    "print(f\"Spam Recall    : {rec:.4f}\")\n",
    "print(f\"Spam F1-score  : {f1:.4f}\")\n"
   ]
  },
  {
   "cell_type": "markdown",
   "id": "a6101813-9302-4618-8166-59a0dd1dcc7c",
   "metadata": {},
   "source": [
    " ## Confusion Matrix Visualization "
   ]
  },
  {
   "cell_type": "code",
   "execution_count": 33,
   "id": "a47daa0d-907b-4aaa-9bb6-dab4360a41cd",
   "metadata": {},
   "outputs": [
    {
     "data": {
      "image/png": "[encoded data removed]",
      "text/plain": [
       "<Figure size 400x400 with 2 Axes>"
      ]
     },
     "metadata": {},
     "output_type": "display_data"
    }
   ],
   "source": [
    "# %% [markdown]\n",
    "# ## Confusion Matrix Visualization \n",
    "\n",
    "# %% \n",
    "import matplotlib.pyplot as plt\n",
    "from sklearn.metrics import confusion_matrix\n",
    "\n",
    "# Compute the confusion matrix (using your existing y_val and y_val_pred)\n",
    "cm = confusion_matrix(y_val, y_val_pred)\n",
    "labels = ['Ham', 'Spam']\n",
    "\n",
    "# Plot with a blue color gradient\n",
    "fig, ax = plt.subplots(figsize=(4, 4))\n",
    "im = ax.imshow(cm, interpolation='nearest', cmap='Blues')\n",
    "ax.set_title('Validation Confusion Matrix')\n",
    "ax.set_xlabel('Predicted')\n",
    "ax.set_ylabel('True')\n",
    "\n",
    "# Add colorbar for reference\n",
    "cbar = plt.colorbar(im, ax=ax)\n",
    "cbar.ax.set_ylabel('Count', rotation=-90, va=\"bottom\")\n",
    "\n",
    "# Tick marks and labels\n",
    "ax.set_xticks([0, 1])\n",
    "ax.set_yticks([0, 1])\n",
    "ax.set_xticklabels(labels)\n",
    "ax.set_yticklabels(labels)\n",
    "\n",
    "# Annotate cells with counts, text color based on background brightness\n",
    "thresh = cm.max() / 2\n",
    "for i in range(cm.shape[0]):\n",
    "    for j in range(cm.shape[1]):\n",
    "        ax.text(j, i, cm[i, j],\n",
    "                ha='center', va='center',\n",
    "                color='white' if cm[i, j] > thresh else 'black')\n",
    "\n",
    "plt.tight_layout()\n",
    "plt.show()\n"
   ]
  },
  {
   "cell_type": "markdown",
   "id": "43d0cc37-d6da-4a45-a932-074b57c3e73c",
   "metadata": {},
   "source": [
    "\n",
    "## Hyperparameter Tuning (Linear SVM)\n"
   ]
  },
  {
   "cell_type": "code",
   "execution_count": 57,
   "id": "c3d7527f-4c98-47c8-985c-69e26c71543c",
   "metadata": {},
   "outputs": [
    {
     "name": "stdout",
     "output_type": "stream",
     "text": [
      "Best C found: 10\n",
      "Best cross-val F1: 0.9797\n"
     ]
    }
   ],
   "source": [
    "from sklearn.svm import LinearSVC\n",
    "from sklearn.model_selection import GridSearchCV\n",
    "\n",
    "# 1. Try different values of C (regularization strength)\n",
    "param_grid = {'C': [0.01, 0.1, 1, 10, 100]}\n",
    "\n",
    "# 2. Set up grid search to optimize F1-score on spam class, using 5-fold CV\n",
    "grid_svm = GridSearchCV(\n",
    "    estimator=LinearSVC(random_state=42, max_iter=10000),\n",
    "    param_grid=param_grid,\n",
    "    scoring='f1',  \n",
    "    cv=5,\n",
    "    n_jobs=-1\n",
    ")\n",
    "\n",
    "# 3. Run the grid search on the training data\n",
    "grid_svm.fit(X_train, y_train)\n",
    "\n",
    "# 4. Display the best C value and its CV F1-score\n",
    "print(\"Best C found:\", grid_svm.best_params_['C'])\n",
    "print(\"Best cross-val F1:\", grid_svm.best_score_.round(4))\n",
    "\n",
    "# 5. Save the tuned model for later evaluation\n",
    "tuned_svm = grid_svm.best_estimator_\n"
   ]
  },
  {
   "cell_type": "code",
   "execution_count": null,
   "id": "759f57b4-592a-4c9e-a557-9dc3ea00a3bd",
   "metadata": {},
   "outputs": [],
   "source": []
  },
  {
   "cell_type": "code",
   "execution_count": 59,
   "id": "32937bd8-8241-4cf2-a777-3bba14a1c350",
   "metadata": {},
   "outputs": [
    {
     "name": "stdout",
     "output_type": "stream",
     "text": [
      "Validation Results (C=10):\n",
      "  Accuracy : 0.9870\n",
      "  Precision: 0.9957\n",
      "  Recall   : 0.9766\n",
      "  F1-score : 0.9860\n"
     ]
    },
    {
     "data": {
      "image/png": "[encoded data removed]",
      "text/plain": [
       "<Figure size 400x400 with 2 Axes>"
      ]
     },
     "metadata": {},
     "output_type": "display_data"
    }
   ],
   "source": [
    "# Validation-Set Evaluation of Tuned SVM\n",
    "\n",
    "from sklearn.metrics import accuracy_score, precision_recall_fscore_support, confusion_matrix\n",
    "import matplotlib.pyplot as plt\n",
    "\n",
    "# Predict on validation data\n",
    "y_val_pred_tuned = tuned_svm.predict(X_val)\n",
    "\n",
    "# Compute metrics\n",
    "acc_v, prec_v, rec_v, f1_v = (\n",
    "    accuracy_score(y_val, y_val_pred_tuned),\n",
    "    *precision_recall_fscore_support(y_val, y_val_pred_tuned, average='binary', pos_label=1)[:3]\n",
    ")\n",
    "print(f\"Validation Results (C={tuned_svm.C}):\")\n",
    "print(f\"  Accuracy : {acc_v:.4f}\")\n",
    "print(f\"  Precision: {prec_v:.4f}\")\n",
    "print(f\"  Recall   : {rec_v:.4f}\")\n",
    "print(f\"  F1-score : {f1_v:.4f}\")\n",
    "\n",
    "# Plot confusion matrix\n",
    "cm_v = confusion_matrix(y_val, y_val_pred_tuned)\n",
    "fig, ax = plt.subplots(figsize=(4,4))\n",
    "im = ax.imshow(cm_v, cmap='Blues')\n",
    "ax.set_title('Validation Confusion Matrix')\n",
    "ax.set_xlabel('Predicted')\n",
    "ax.set_ylabel('True')\n",
    "ax.set_xticks([0,1])\n",
    "ax.set_yticks([0,1])\n",
    "ax.set_xticklabels(['Ham','Spam'])\n",
    "ax.set_yticklabels(['Ham','Spam'])\n",
    "thresh = cm_v.max()/2\n",
    "for i in range(2):\n",
    "    for j in range(2):\n",
    "        ax.text(j, i, cm_v[i,j],\n",
    "                ha='center', va='center',\n",
    "                color='white' if cm_v[i,j]>thresh else 'black')\n",
    "plt.colorbar(im, ax=ax)\n",
    "plt.tight_layout()\n",
    "plt.show()\n"
   ]
  },
  {
   "cell_type": "code",
   "execution_count": 63,
   "id": "d0b0965b-36fd-4217-96c7-43c8ce09a7b2",
   "metadata": {},
   "outputs": [
    {
     "name": "stdout",
     "output_type": "stream",
     "text": [
      "Test Results:\n",
      "  Accuracy : 0.9800\n",
      "  Precision: 0.9870\n",
      "  Recall   : 0.9701\n",
      "  F1-score : 0.9785\n"
     ]
    },
    {
     "data": {
      "image/png": "[encoded data removed]",
      "text/plain": [
       "<Figure size 400x400 with 2 Axes>"
      ]
     },
     "metadata": {},
     "output_type": "display_data"
    }
   ],
   "source": [
    "##  Final Test-Set Evaluation\n",
    "\n",
    "import matplotlib.pyplot as plt\n",
    "from sklearn.metrics import (\n",
    "    accuracy_score,\n",
    "    precision_recall_fscore_support,\n",
    "    confusion_matrix\n",
    ")\n",
    "\n",
    "# 1. Predict on test data\n",
    "y_test_pred = tuned_svm.predict(X_test)\n",
    "\n",
    "# 2. Compute final metrics\n",
    "acc_t, prec_t, rec_t, f1_t = (\n",
    "    accuracy_score(y_test, y_test_pred),\n",
    "    *precision_recall_fscore_support(\n",
    "         y_test, y_test_pred, average='binary', pos_label=1\n",
    "      )[:3]\n",
    ")\n",
    "\n",
    "print(\"Test Results:\")\n",
    "print(f\"  Accuracy : {acc_t:.4f}\")\n",
    "print(f\"  Precision: {prec_t:.4f}\")\n",
    "print(f\"  Recall   : {rec_t:.4f}\")\n",
    "print(f\"  F1-score : {f1_t:.4f}\")\n",
    "\n",
    "# 3. Plot test confusion matrix\n",
    "cm_t = confusion_matrix(y_test, y_test_pred)\n",
    "fig, ax = plt.subplots(figsize=(4,4))\n",
    "im = ax.imshow(cm_t, cmap='Blues')\n",
    "ax.set_title('Test Confusion Matrix')\n",
    "ax.set_xlabel('Predicted')\n",
    "ax.set_ylabel('True')\n",
    "ax.set_xticks([0,1]); ax.set_yticks([0,1])\n",
    "ax.set_xticklabels(['Ham','Spam'])\n",
    "ax.set_yticklabels(['Ham','Spam'])\n",
    "thresh = cm_t.max() / 2\n",
    "for i in range(2):\n",
    "    for j in range(2):\n",
    "        ax.text(j, i, cm_t[i, j],\n",
    "                ha='center', va='center',\n",
    "                color='white' if cm_t[i, j] > thresh else 'black')\n",
    "plt.colorbar(im, ax=ax)\n",
    "plt.tight_layout()\n",
    "plt.show()\n"
   ]
  },
  {
   "cell_type": "code",
   "execution_count": null,
   "id": "ddc2b26d-e6ee-4d17-bebd-3a3095d8313c",
   "metadata": {},
   "outputs": [],
   "source": []
  },
  {
   "cell_type": "code",
   "execution_count": null,
   "id": "4b1ee369-5efd-490f-a1b8-b1725f1cde72",
   "metadata": {},
   "outputs": [],
   "source": []
  }
 ],
 "metadata": {
  "kernelspec": {
   "display_name": "Python [conda env:base] *",
   "language": "python",
   "name": "conda-base-py"
  },
  "language_info": {
   "codemirror_mode": {
    "name": "ipython",
    "version": 3
   },
   "file_extension": ".py",
   "mimetype": "text/x-python",
   "name": "python",
   "nbconvert_exporter": "python",
   "pygments_lexer": "ipython3",
   "version": "3.12.7"
  }
 },
 "nbformat": 4,
 "nbformat_minor": 5
}
