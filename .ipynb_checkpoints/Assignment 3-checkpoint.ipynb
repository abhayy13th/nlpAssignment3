{
 "cells": [
  {
   "cell_type": "code",
   "execution_count": 4,
   "id": "f896bce5-5243-4ce3-9aab-bfc25aae4e33",
   "metadata": {},
   "outputs": [
    {
     "name": "stdout",
     "output_type": "stream",
     "text": [
      "(9989, 2)\n",
      "Index(['label', 'text'], dtype='object')\n",
      "  label                                               text\n",
      "0   ham  into the kingdom of god and those that are ent...\n",
      "1  spam  there was flow at hpl meter 1505 on april firs...\n",
      "2   ham  take a look at this one campaign for bvyhprice...\n",
      "3  spam  somu wrote actually thats what i was looking f...\n",
      "4  spam  fathi boudra wrote i fixed the issue in the sv...\n",
      "label\n",
      "ham     5294\n",
      "spam    4695\n",
      "Name: count, dtype: int64\n"
     ]
    }
   ],
   "source": [
    "import pandas as pd\n",
    "\n",
    "# Adjust the file path to where the CSV is stored locally\n",
    "df = pd.read_csv(\"spam_and_ham_classification.csv\")\n",
    "\n",
    "print(df.shape)            # e.g., (some_number_of_rows, 3)\n",
    "print(df.columns)          # Expecting columns such as ['label', 'text', ...]\n",
    "print(df.head(5))          # Preview the first few rows\n",
    "print(df[\"label\"].value_counts())  # Confirm it’s balanced: equal counts of 'spam' and 'ham'\n"
   ]
  },
  {
   "cell_type": "code",
   "execution_count": 5,
   "id": "fe5859be-3bf3-4696-8451-8c17047636ff",
   "metadata": {},
   "outputs": [
    {
     "data": {
      "text/html": [
       "<div>\n",
       "<style scoped>\n",
       "    .dataframe tbody tr th:only-of-type {\n",
       "        vertical-align: middle;\n",
       "    }\n",
       "\n",
       "    .dataframe tbody tr th {\n",
       "        vertical-align: top;\n",
       "    }\n",
       "\n",
       "    .dataframe thead th {\n",
       "        text-align: right;\n",
       "    }\n",
       "</style>\n",
       "<table border=\"1\" class=\"dataframe\">\n",
       "  <thead>\n",
       "    <tr style=\"text-align: right;\">\n",
       "      <th></th>\n",
       "      <th>clean_text</th>\n",
       "      <th>label</th>\n",
       "    </tr>\n",
       "  </thead>\n",
       "  <tbody>\n",
       "    <tr>\n",
       "      <th>0</th>\n",
       "      <td>into the kingdom of god and those that are ent...</td>\n",
       "      <td>ham</td>\n",
       "    </tr>\n",
       "    <tr>\n",
       "      <th>1</th>\n",
       "      <td>there was flow at hpl meter 1505 on april firs...</td>\n",
       "      <td>spam</td>\n",
       "    </tr>\n",
       "    <tr>\n",
       "      <th>2</th>\n",
       "      <td>take a look at this one campaign for bvyhprice...</td>\n",
       "      <td>ham</td>\n",
       "    </tr>\n",
       "    <tr>\n",
       "      <th>3</th>\n",
       "      <td>somu wrote actually thats what i was looking f...</td>\n",
       "      <td>spam</td>\n",
       "    </tr>\n",
       "    <tr>\n",
       "      <th>4</th>\n",
       "      <td>fathi boudra wrote i fixed the issue in the sv...</td>\n",
       "      <td>spam</td>\n",
       "    </tr>\n",
       "  </tbody>\n",
       "</table>\n",
       "</div>"
      ],
      "text/plain": [
       "                                          clean_text label\n",
       "0  into the kingdom of god and those that are ent...   ham\n",
       "1  there was flow at hpl meter 1505 on april firs...  spam\n",
       "2  take a look at this one campaign for bvyhprice...   ham\n",
       "3  somu wrote actually thats what i was looking f...  spam\n",
       "4  fathi boudra wrote i fixed the issue in the sv...  spam"
      ]
     },
     "execution_count": 5,
     "metadata": {},
     "output_type": "execute_result"
    }
   ],
   "source": [
    "import re\n",
    "\n",
    "def clean_text(text):\n",
    "    # 1. Convert to lowercase\n",
    "    text = text.lower()\n",
    "    # 2. Remove URLs\n",
    "    text = re.sub(r\"http\\S+\", \"\", text)\n",
    "    # 3. Remove non-alphanumeric characters (keep spaces)\n",
    "    text = re.sub(r\"[^a-z0-9\\s]\", \" \", text)\n",
    "    # 4. Collapse multiple spaces into one\n",
    "    text = re.sub(r\"\\s+\", \" \", text).strip()\n",
    "    return text\n",
    "\n",
    "# Apply the cleaning function to the entire DataFrame\n",
    "df[\"clean_text\"] = df[\"text\"].apply(clean_text)\n",
    "\n",
    "# Quick check of the new column\n",
    "df[[\"clean_text\", \"label\"]].head()\n"
   ]
  },
  {
   "cell_type": "code",
   "execution_count": 6,
   "id": "89e6cd03-365b-49c1-8368-00cc0a9d4a70",
   "metadata": {},
   "outputs": [
    {
     "name": "stdout",
     "output_type": "stream",
     "text": [
      "Train shape: (7991, 3)\n",
      "label\n",
      "ham     0.529971\n",
      "spam    0.470029\n",
      "Name: proportion, dtype: float64\n",
      "Validation shape: (999, 3)\n",
      "label\n",
      "ham     0.52953\n",
      "spam    0.47047\n",
      "Name: proportion, dtype: float64\n",
      "Test shape: (999, 3)\n",
      "label\n",
      "ham     0.530531\n",
      "spam    0.469469\n",
      "Name: proportion, dtype: float64\n"
     ]
    }
   ],
   "source": [
    "from sklearn.model_selection import train_test_split\n",
    "\n",
    "# First split: 80% train, 20% temp (val + test)\n",
    "train_df, temp_df = train_test_split(\n",
    "    df,\n",
    "    test_size=0.20,\n",
    "    stratify=df[\"label\"],\n",
    "    random_state=13\n",
    ")\n",
    "\n",
    "# Second split: 10% validation, 10% test (each 50% of temp_df)\n",
    "val_df, test_df = train_test_split(\n",
    "    temp_df,\n",
    "    test_size=0.50,\n",
    "    stratify=temp_df[\"label\"],\n",
    "    random_state=13\n",
    ")\n",
    "\n",
    "# Confirm shapes and label distributions\n",
    "print(\"Train shape:\", train_df.shape)\n",
    "print(train_df[\"label\"].value_counts(normalize=True))\n",
    "print(\"Validation shape:\", val_df.shape)\n",
    "print(val_df[\"label\"].value_counts(normalize=True))\n",
    "print(\"Test shape:\", test_df.shape)\n",
    "print(test_df[\"label\"].value_counts(normalize=True))\n"
   ]
  },
  {
   "cell_type": "code",
   "execution_count": 7,
   "id": "fc7a9d69-9de7-4046-aeb0-d1f80607ca9a",
   "metadata": {},
   "outputs": [
    {
     "name": "stdout",
     "output_type": "stream",
     "text": [
      "X_train shape: (7991, 105579)\n",
      "X_val shape:   (999, 105579)\n",
      "X_test shape:  (999, 105579)\n",
      "y_train length: 7991\n",
      "y_val length:   999\n",
      "y_test length:  999\n"
     ]
    }
   ],
   "source": [
    "from sklearn.feature_extraction.text import TfidfVectorizer\n",
    "\n",
    "vectorizer = TfidfVectorizer(\n",
    "    min_df=3,\n",
    "    max_df=0.85,\n",
    "    ngram_range=(1, 2)\n",
    ")\n",
    "\n",
    "# Fit on the training set, then transform all three\n",
    "X_train = vectorizer.fit_transform(train_df[\"clean_text\"])\n",
    "X_val   = vectorizer.transform(val_df[\"clean_text\"])\n",
    "X_test  = vectorizer.transform(test_df[\"clean_text\"])\n",
    "\n",
    "# Encode labels as binary (ham=0, spam=1)\n",
    "y_train = train_df[\"label\"].map({\"ham\": 0, \"spam\": 1}).values\n",
    "y_val   = val_df[\"label\"].map({\"ham\": 0, \"spam\": 1}).values\n",
    "y_test  = test_df[\"label\"].map({\"ham\": 0, \"spam\": 1}).values\n",
    "\n",
    "# Print shapes to confirm\n",
    "print(\"X_train shape:\", X_train.shape)\n",
    "print(\"X_val shape:  \", X_val.shape)\n",
    "print(\"X_test shape: \", X_test.shape)\n",
    "print(\"y_train length:\", len(y_train))\n",
    "print(\"y_val length:  \", len(y_val))\n",
    "print(\"y_test length: \", len(y_test))\n"
   ]
  },
  {
   "cell_type": "code",
   "execution_count": null,
   "id": "05ff5dc3-1f44-4723-89f2-b63157919737",
   "metadata": {},
   "outputs": [],
   "source": [
    "\n"
   ]
  },
  {
   "cell_type": "code",
   "execution_count": null,
   "id": "a47daa0d-907b-4aaa-9bb6-dab4360a41cd",
   "metadata": {},
   "outputs": [],
   "source": []
  }
 ],
 "metadata": {
  "kernelspec": {
   "display_name": "Python [conda env:base] *",
   "language": "python",
   "name": "conda-base-py"
  },
  "language_info": {
   "codemirror_mode": {
    "name": "ipython",
    "version": 3
   },
   "file_extension": ".py",
   "mimetype": "text/x-python",
   "name": "python",
   "nbconvert_exporter": "python",
   "pygments_lexer": "ipython3",
   "version": "3.12.7"
  }
 },
 "nbformat": 4,
 "nbformat_minor": 5
}
